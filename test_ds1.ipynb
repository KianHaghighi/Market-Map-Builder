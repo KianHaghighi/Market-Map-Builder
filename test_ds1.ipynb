{
 "cells": [
  {
   "cell_type": "code",
   "execution_count": 3,
   "metadata": {},
   "outputs": [
    {
     "name": "stdout",
     "output_type": "stream",
     "text": [
      "                         permalink                name  \\\n",
      "0            /organization/waywire            #waywire   \n",
      "1  /organization/tv-communications  &TV Communications   \n",
      "2    /organization/rock-your-paper   'Rock' Your Paper   \n",
      "3   /organization/in-touch-network   (In)Touch Network   \n",
      "4   /organization/r-ranch-and-mine  -R- Ranch and Mine   \n",
      "\n",
      "                    homepage_url  \\\n",
      "0         http://www.waywire.com   \n",
      "1          http://enjoyandtv.com   \n",
      "2   http://www.rockyourpaper.org   \n",
      "3  http://www.InTouchNetwork.com   \n",
      "4                            NaN   \n",
      "\n",
      "                                       category_list        market   \\\n",
      "0         |Entertainment|Politics|Social Media|News|          News    \n",
      "1                                            |Games|         Games    \n",
      "2                             |Publishing|Education|    Publishing    \n",
      "3  |Electronics|Guides|Coffee|Restaurants|Music|i...   Electronics    \n",
      "4                      |Tourism|Entertainment|Games|       Tourism    \n",
      "\n",
      "   funding_total_usd      status country_code state_code         region  ...  \\\n",
      "0          17,50,000    acquired          USA         NY  New York City  ...   \n",
      "1          40,00,000   operating          USA         CA    Los Angeles  ...   \n",
      "2             40,000   operating          EST        NaN        Tallinn  ...   \n",
      "3          15,00,000   operating          GBR        NaN         London  ...   \n",
      "4             60,000   operating          USA         TX         Dallas  ...   \n",
      "\n",
      "  secondary_market  product_crowdfunding round_A round_B round_C  round_D  \\\n",
      "0              0.0                   0.0     0.0     0.0     0.0      0.0   \n",
      "1              0.0                   0.0     0.0     0.0     0.0      0.0   \n",
      "2              0.0                   0.0     0.0     0.0     0.0      0.0   \n",
      "3              0.0                   0.0     0.0     0.0     0.0      0.0   \n",
      "4              0.0                   0.0     0.0     0.0     0.0      0.0   \n",
      "\n",
      "  round_E round_F  round_G  round_H  \n",
      "0     0.0     0.0      0.0      0.0  \n",
      "1     0.0     0.0      0.0      0.0  \n",
      "2     0.0     0.0      0.0      0.0  \n",
      "3     0.0     0.0      0.0      0.0  \n",
      "4     0.0     0.0      0.0      0.0  \n",
      "\n",
      "[5 rows x 39 columns]\n"
     ]
    }
   ],
   "source": [
    "import pandas as pd\n",
    "df = pd.read_csv('investments_VC.csv', encoding='ISO-8859-1')\n",
    "print(df.head(5))"
   ]
  },
  {
   "cell_type": "code",
   "execution_count": 6,
   "metadata": {},
   "outputs": [
    {
     "name": "stdout",
     "output_type": "stream",
     "text": [
      "Index(['permalink', 'name', 'homepage_url', 'category_list', ' market ',\n",
      "       ' funding_total_usd ', 'status', 'country_code', 'state_code', 'region',\n",
      "       'city', 'funding_rounds', 'founded_at', 'founded_month',\n",
      "       'founded_quarter', 'founded_year', 'first_funding_at',\n",
      "       'last_funding_at', 'seed', 'venture', 'equity_crowdfunding',\n",
      "       'undisclosed', 'convertible_note', 'debt_financing', 'angel', 'grant',\n",
      "       'private_equity', 'post_ipo_equity', 'post_ipo_debt',\n",
      "       'secondary_market', 'product_crowdfunding', 'round_A', 'round_B',\n",
      "       'round_C', 'round_D', 'round_E', 'round_F', 'round_G', 'round_H'],\n",
      "      dtype='object')\n"
     ]
    }
   ],
   "source": [
    "print(df.columns)"
   ]
  },
  {
   "cell_type": "code",
   "execution_count": 12,
   "metadata": {},
   "outputs": [
    {
     "name": "stdout",
     "output_type": "stream",
     "text": [
      " Software \n",
      "region\n",
      "SF Bay Area        6804\n",
      "New York City      2577\n",
      "Boston             1837\n",
      "London             1588\n",
      "Los Angeles        1389\n",
      "                   ... \n",
      "Palma Del Río         1\n",
      "Harbin                1\n",
      "Teddington            1\n",
      "Borehamwood           1\n",
      "Buckinghamshire       1\n",
      "Name: count, Length: 1089, dtype: int64\n"
     ]
    }
   ],
   "source": [
    "# Get the counts of unique values for 'market'\n",
    "counts_market = df[' market '].value_counts()\n",
    "most_common_market = counts_market.idxmax()\n",
    "\n",
    "# Get the counts of unique values for 'region'\n",
    "counts_city = df['region'].value_counts()\n",
    "\n",
    "# Print the most common 'market'\n",
    "print(most_common_market)\n",
    "\n",
    "# Print the ranking of all values for 'region'\n",
    "print(counts_city)"
   ]
  },
  {
   "cell_type": "code",
   "execution_count": 13,
   "metadata": {},
   "outputs": [
    {
     "name": "stdout",
     "output_type": "stream",
     "text": [
      "                                permalink                  name  \\\n",
      "89     /organization/1st-merchant-funding  1st Merchant Funding   \n",
      "524              /organization/abakan-inc                Abakan   \n",
      "778    /organization/acm-capital-partners  ACM Capital Partners   \n",
      "1122             /organization/admobilize            AdMobilize   \n",
      "1370               /organization/aeropost              Aeropost   \n",
      "...                                   ...                   ...   \n",
      "47588             /organization/wikipixel             Wikipixel   \n",
      "48498          /organization/yellowpepper          YellowPepper   \n",
      "48517         /organization/yestodate-com         YESTODATE.COM   \n",
      "48909                 /organization/zazom                 Zazom   \n",
      "49149         /organization/zila-networks         Zila Networks   \n",
      "\n",
      "                             homepage_url  \\\n",
      "89     http://www.1stmerchantfunding.com/   \n",
      "524              http://www.abakaninc.com   \n",
      "778         http://acmcapitalpartners.com   \n",
      "1122            http://www.admobilize.com   \n",
      "1370                  http://aeropost.com   \n",
      "...                                   ...   \n",
      "47588               https://wikipixel.com   \n",
      "48498         http://www.yellowpepper.com   \n",
      "48517            http://www.yestodate.com   \n",
      "48909                http://www.zazom.com   \n",
      "49149             http://zilanetworks.com   \n",
      "\n",
      "                                           category_list  \\\n",
      "89                                  |Financial Services|   \n",
      "524                                   |Clean Technology|   \n",
      "778                                         |Consulting|   \n",
      "1122   |Software|Hardware|SEO|Apps|Cars|Technology|Me...   \n",
      "1370                                       |Curated Web|   \n",
      "...                                                  ...   \n",
      "47588          |Public Relations|Digital Media|Software|   \n",
      "48498                               |Technology|Finance|   \n",
      "48517                                      |Curated Web|   \n",
      "48909    |Property Management|Online Rental|Real Estate|   \n",
      "49149                                           |Mobile|   \n",
      "\n",
      "                    market   funding_total_usd      status country_code  \\\n",
      "89      Financial Services         1,00,00,000         NaN          USA   \n",
      "524       Clean Technology           42,11,031   operating          USA   \n",
      "778             Consulting           80,00,000   operating          USA   \n",
      "1122           Advertising           22,00,000   operating          USA   \n",
      "1370           Curated Web           50,00,000   operating          USA   \n",
      "...                     ...                 ...        ...          ...   \n",
      "47588     Public Relations            6,50,000   operating          USA   \n",
      "48498           Technology         2,00,00,000   operating          USA   \n",
      "48517          Curated Web           10,00,000      closed          USA   \n",
      "48909          Real Estate              55,000   operating          USA   \n",
      "49149               Mobile           10,00,000      closed          USA   \n",
      "\n",
      "      state_code region  ... secondary_market  product_crowdfunding  \\\n",
      "89            FL  Miami  ...              0.0                   0.0   \n",
      "524           FL  Miami  ...              0.0                   0.0   \n",
      "778           FL  Miami  ...              0.0                   0.0   \n",
      "1122          FL  Miami  ...              0.0                   0.0   \n",
      "1370          FL  Miami  ...              0.0                   0.0   \n",
      "...          ...    ...  ...              ...                   ...   \n",
      "47588         FL  Miami  ...              0.0                   0.0   \n",
      "48498         FL  Miami  ...              0.0                   0.0   \n",
      "48517         FL  Miami  ...              0.0                   0.0   \n",
      "48909         FL  Miami  ...              0.0                   0.0   \n",
      "49149         FL  Miami  ...              0.0                   0.0   \n",
      "\n",
      "         round_A round_B     round_C  round_D round_E round_F  round_G  \\\n",
      "89           0.0     0.0         0.0      0.0     0.0     0.0      0.0   \n",
      "524          0.0     0.0         0.0      0.0     0.0     0.0      0.0   \n",
      "778          0.0     0.0         0.0      0.0     0.0     0.0      0.0   \n",
      "1122   2200000.0     0.0         0.0      0.0     0.0     0.0      0.0   \n",
      "1370         0.0     0.0         0.0      0.0     0.0     0.0      0.0   \n",
      "...          ...     ...         ...      ...     ...     ...      ...   \n",
      "47588        0.0     0.0         0.0      0.0     0.0     0.0      0.0   \n",
      "48498        0.0     0.0  15000000.0      0.0     0.0     0.0      0.0   \n",
      "48517        0.0     0.0         0.0      0.0     0.0     0.0      0.0   \n",
      "48909        0.0     0.0         0.0      0.0     0.0     0.0      0.0   \n",
      "49149        0.0     0.0         0.0      0.0     0.0     0.0      0.0   \n",
      "\n",
      "       round_H  \n",
      "89         0.0  \n",
      "524        0.0  \n",
      "778        0.0  \n",
      "1122       0.0  \n",
      "1370       0.0  \n",
      "...        ...  \n",
      "47588      0.0  \n",
      "48498      0.0  \n",
      "48517      0.0  \n",
      "48909      0.0  \n",
      "49149      0.0  \n",
      "\n",
      "[192 rows x 39 columns]\n"
     ]
    }
   ],
   "source": [
    "startups_in_miami = df[df['region'] == 'Miami']\n",
    "\n",
    "print(startups_in_miami)"
   ]
  },
  {
   "cell_type": "code",
   "execution_count": null,
   "metadata": {},
   "outputs": [],
   "source": []
  }
 ],
 "metadata": {
  "kernelspec": {
   "display_name": "Python 3",
   "language": "python",
   "name": "python3"
  },
  "language_info": {
   "codemirror_mode": {
    "name": "ipython",
    "version": 3
   },
   "file_extension": ".py",
   "mimetype": "text/x-python",
   "name": "python",
   "nbconvert_exporter": "python",
   "pygments_lexer": "ipython3",
   "version": "3.11.4"
  }
 },
 "nbformat": 4,
 "nbformat_minor": 2
}
