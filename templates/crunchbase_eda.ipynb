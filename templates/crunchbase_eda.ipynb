{
 "cells": [
  {
   "cell_type": "code",
   "execution_count": 4,
   "metadata": {},
   "outputs": [],
   "source": [
    "from py_crunchbase import PyCrunchbase\n",
    "pycb = PyCrunchbase('e3941765dfeec33977f94b57cba729ba')"
   ]
  },
  {
   "cell_type": "code",
   "execution_count": 14,
   "metadata": {},
   "outputs": [],
   "source": [
    "import requests, json\n",
    "import pandas as pd\n",
    "from pandas import json_normalize"
   ]
  },
  {
   "cell_type": "code",
   "execution_count": 12,
   "metadata": {},
   "outputs": [],
   "source": [
    "userkey = {\"user_key\":\"e3941765dfeec33977f94b57cba729ba\"}\n"
   ]
  },
  {
   "cell_type": "code",
   "execution_count": 15,
   "metadata": {},
   "outputs": [],
   "source": [
    "def company_count(query):\n",
    "    r = requests.post(\"https://api.crunchbase.com/api/v4/searches/organizations\", params = userkey , json = query)\n",
    "    result = json.loads(r.text)\n",
    "    total_companies = result[\"count\"]\n",
    "    return total_companies\n",
    "def url_extraction(query):\n",
    "    global raw\n",
    "    r = requests.post(\"https://api.crunchbase.com/api/v4/searches/organizations\", params = userkey , json = query)\n",
    "    result = json.loads(r.text)\n",
    "    normalized_raw = json_normalize(result['entities'])\n",
    "    raw = raw.append(normalized_raw,ignore_index=True)"
   ]
  },
  {
   "cell_type": "code",
   "execution_count": 17,
   "metadata": {},
   "outputs": [],
   "source": [
    "query = {\n",
    "\"field_ids\": [\n",
    "\"identifier\",\n",
    "\"location_identifiers\",\n",
    "\"short_description\",\n",
    "\"categories\",\n",
    "\"num_employees_enum\",\n",
    "\"revenue_range\",\n",
    "\"operating_status\",\n",
    "\"website\",\n",
    "\"linkedin\"\n",
    "],\n",
    "\"limit\": 1000,\n",
    "\"query\": [\n",
    "{\n",
    "\"type\": \"predicate\",\n",
    "\"field_id\": \"location_identifiers\",\n",
    "\"operator_id\": \"includes\",\n",
    "\"values\": [\n",
    "\"4ce61f42-f6c4-e7ec-798d-44813b58856b\" #UUID FOR LOS ANGELES\n",
    "]\n",
    "},\n",
    "{\n",
    "\"type\": \"predicate\",\n",
    "\"field_id\": \"facet_ids\",\n",
    "\"operator_id\": \"includes\",\n",
    "\"values\": [\n",
    "\"company\"\n",
    "]\n",
    "}\n",
    "]\n",
    "}"
   ]
  },
  {
   "cell_type": "code",
   "execution_count": 23,
   "metadata": {},
   "outputs": [],
   "source": [
    "# def company_count(query):\n",
    "#     r = requests.post(\"https://api.crunchbase.com/api/v4/searches/organizations\", params = userkey , json = query)\n",
    "#     result = json.loads(r.text)\n",
    "#     total_companies = result[\"count\"]\n",
    "#     return int(total_companies)\n",
    "# raw=pd.DataFrame()\n",
    "# comp_count = company_count(query)\n",
    "# data_acq = 0\n",
    "# while data_acq < comp_count:\n",
    "#     if data_acq != 0:\n",
    "#         last_uuid = raw.uuid[len(raw.uuid)-1]\n",
    "#         query[\"after_id\"] = last_uuid\n",
    "#         url_extraction(query)\n",
    "#         data_acq = len(raw.uuid)\n",
    "#     else:\n",
    "#         if \"after_id\" in query:\n",
    "#             query = query.pop(\"after_id\")\n",
    "#             url_extraction(query)\n",
    "#             data_acq = len(raw.uuid)\n",
    "#         else:\n",
    "#             url_extraction(query)\n",
    "#             data_acq = len(raw.uuid)"
   ]
  },
  {
   "cell_type": "code",
   "execution_count": 24,
   "metadata": {},
   "outputs": [
    {
     "ename": "AttributeError",
     "evalue": "'SearchAPI' object has no attribute 'search'",
     "output_type": "error",
     "traceback": [
      "\u001b[1;31m---------------------------------------------------------------------------\u001b[0m",
      "\u001b[1;31mAttributeError\u001b[0m                            Traceback (most recent call last)",
      "Cell \u001b[1;32mIn[24], line 1\u001b[0m\n\u001b[1;32m----> 1\u001b[0m result \u001b[38;5;241m=\u001b[39m \u001b[43mapi\u001b[49m\u001b[38;5;241;43m.\u001b[39;49m\u001b[43msearch\u001b[49m(query)\n\u001b[0;32m      2\u001b[0m result\n",
      "\u001b[1;31mAttributeError\u001b[0m: 'SearchAPI' object has no attribute 'search'"
     ]
    }
   ],
   "source": [
    "result = api.search(query)"
   ]
  },
  {
   "cell_type": "code",
   "execution_count": 26,
   "metadata": {},
   "outputs": [
    {
     "name": "stdout",
     "output_type": "stream",
     "text": [
      "Request is missing required query parameter 'query'\n"
     ]
    }
   ],
   "source": [
    "import requests\n",
    "\n",
    "url = \"https://api.crunchbase.com/v4/data/autocompletes\"\n",
    "\n",
    "headers = {\n",
    "    \"accept\": \"application/json\",\n",
    "    \"X-cb-user-key\": \"e3941765dfeec33977f94b57cba729ba\"\n",
    "}\n",
    "\n",
    "response = requests.get(url, headers=headers)\n",
    "\n",
    "print(response.text)"
   ]
  },
  {
   "cell_type": "code",
   "execution_count": 3,
   "metadata": {},
   "outputs": [
    {
     "name": "stdout",
     "output_type": "stream",
     "text": [
      "Error: 401, [{\"status\":401,\"code\":\"LA401\",\"message\":\"Unauthorized user_key\"}]\n",
      "\n"
     ]
    }
   ],
   "source": [
    "import requests\n",
    "\n",
    "api_key = 'e3941765dfeec33977f94b57cba729ba'\n",
    "base_url = 'https://api.crunchbase.com/v3.1'\n",
    "\n",
    "endpoint = '/organizations'\n",
    "params = {\n",
    "    'user_key': api_key,\n",
    "    'query': 'Artificial Intelligence'\n",
    "}\n",
    "\n",
    "response = requests.get(base_url + endpoint, params=params)\n",
    "\n",
    "if response.status_code == 200:\n",
    "    data = response.json()\n",
    "    print(data)\n",
    "else:\n",
    "    print(f\"Error: {response.status_code}, {response.text}\")\n"
   ]
  },
  {
   "cell_type": "code",
   "execution_count": 4,
   "metadata": {},
   "outputs": [
    {
     "name": "stdout",
     "output_type": "stream",
     "text": [
      "Unauthorized: Check your API key\n"
     ]
    }
   ],
   "source": [
    "import requests\n",
    "\n",
    "def search_crunchbase(api_key, query):\n",
    "    base_url = 'https://api.crunchbase.com/v3.1'\n",
    "    endpoint = '/organizations'\n",
    "    params = {\n",
    "        'user_key': api_key,\n",
    "        'query': query\n",
    "    }\n",
    "\n",
    "    response = requests.get(base_url + endpoint, params=params)\n",
    "\n",
    "    if response.status_code == 200:\n",
    "        data = response.json()\n",
    "        return data\n",
    "    elif response.status_code == 401:\n",
    "        print(\"Unauthorized: Check your API key\")\n",
    "    else:\n",
    "        print(f\"Error: {response.status_code}, {response.text}\")\n",
    "\n",
    "# Replace 'your_api_key' with your actual API key\n",
    "api_key = 'e3941765dfeec33977f94b57cba729ba'\n",
    "query = 'Artificial Intelligence'\n",
    "result = search_crunchbase(api_key, query)\n",
    "if result:\n",
    "    print(result)\n"
   ]
  },
  {
   "cell_type": "code",
   "execution_count": 8,
   "metadata": {},
   "outputs": [
    {
     "data": {
      "text/plain": [
       "'{\"error\":\"failed to parse json entity\",\"code\":\"CS103\"}'"
      ]
     },
     "execution_count": 8,
     "metadata": {},
     "output_type": "execute_result"
    }
   ],
   "source": [
    "import requests\n",
    "\n",
    "url = \"https://api.crunchbase.com/v4/data/searches/organizations\"\n",
    "\n",
    "headers = {\n",
    "    \"accept\": \"application/json\",\n",
    "    \"content-type\": \"application/json\",\n",
    "    \"X-cb-user-key\": \"d2d669ba10e084512b8e5753d1f583bb\"\n",
    "}\n",
    "\n",
    "response = requests.post(url, headers=headers)\n",
    "response.text"
   ]
  },
  {
   "cell_type": "code",
   "execution_count": 10,
   "metadata": {},
   "outputs": [
    {
     "name": "stdout",
     "output_type": "stream",
     "text": [
      "{\"error\":\"requested resource could not be found\",\"code\":\"CS404\"}\n"
     ]
    }
   ],
   "source": [
    "import requests\n",
    "\n",
    "url = \"https://api.crunchbase.com/v4/data/entities/organizations/entity_id\"\n",
    "\n",
    "headers = {\n",
    "    \"accept\": \"application/json\",\n",
    "    \"X-cb-user-key\": \"d2d669ba10e084512b8e5753d1f583bb\"\n",
    "}\n",
    "\n",
    "response = requests.get(url, headers=headers)\n",
    "\n",
    "print(response.text)"
   ]
  },
  {
   "cell_type": "code",
   "execution_count": 12,
   "metadata": {},
   "outputs": [
    {
     "name": "stdout",
     "output_type": "stream",
     "text": [
      "{'error': 'unknown collection_id', 'code': 'CS102'}\n"
     ]
    }
   ],
   "source": [
    "# crunchbase_api.py\n",
    "#something is wrong with my api key right now or the code im finding online is wrong\n",
    "#im going to do some market research in the meantime\n",
    "import requests\n",
    "\n",
    "API_KEY = 'd2d669ba10e084512b8e5753d1f583bb'\n",
    "BASE_URL = 'https://api.crunchbase.com/api/v4'\n",
    "\n",
    "def fetch_funding_rounds():\n",
    "    url = f'{BASE_URL}/searches/funding_rounds?user_key={API_KEY}'\n",
    "    payload = {\n",
    "        \"field_ids\": [\n",
    "            \"identifier\",\n",
    "            \"announced_on\",\n",
    "            \"funded_organization_identifier\",\n",
    "            \"money_raised\",\n",
    "            \"investment_type\"\n",
    "        ],\n",
    "        \"order\": [\n",
    "            {\n",
    "                \"field_id\": \"announced_on\",\n",
    "                \"sort\": \"asc\"\n",
    "            }\n",
    "        ],\n",
    "        \"query\": [\n",
    "            {\n",
    "                \"type\": \"predicate\",\n",
    "                \"field_id\": \"announced_on\",\n",
    "                \"operator_id\": \"gte\",\n",
    "                \"values\": [\"2012\"]\n",
    "            },\n",
    "            {\n",
    "                \"type\": \"predicate\",\n",
    "                \"field_id\": \"num_investors\",\n",
    "                \"operator_id\": \"lte\",\n",
    "                \"values\": [\"4\"]\n",
    "            },\n",
    "            {\n",
    "                \"type\": \"predicate\",\n",
    "                \"field_id\": \"money_raised\",\n",
    "                \"operator_id\": \"gte\",\n",
    "                \"values\": [\n",
    "                    {\"value\": 10000000, \"currency\": \"usd\"}\n",
    "                ]\n",
    "            }\n",
    "        ]\n",
    "    }\n",
    "    response = requests.post(url, json=payload)\n",
    "    return response.json()\n",
    "print(fetch_funding_rounds())\n"
   ]
  },
  {
   "cell_type": "code",
   "execution_count": null,
   "metadata": {},
   "outputs": [],
   "source": [
    "d"
   ]
  }
 ],
 "metadata": {
  "kernelspec": {
   "display_name": "Python 3",
   "language": "python",
   "name": "python3"
  },
  "language_info": {
   "codemirror_mode": {
    "name": "ipython",
    "version": 3
   },
   "file_extension": ".py",
   "mimetype": "text/x-python",
   "name": "python",
   "nbconvert_exporter": "python",
   "pygments_lexer": "ipython3",
   "version": "3.11.4"
  }
 },
 "nbformat": 4,
 "nbformat_minor": 2
}
