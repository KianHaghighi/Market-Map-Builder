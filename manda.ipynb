{
 "cells": [
  {
   "cell_type": "code",
   "execution_count": 10,
   "metadata": {},
   "outputs": [],
   "source": [
    "import pandas as pd\n",
    "df = pd.read_csv(\"datasets\\\\acquisitions.csv\")"
   ]
  },
  {
   "cell_type": "code",
   "execution_count": 13,
   "metadata": {},
   "outputs": [
    {
     "name": "stdout",
     "output_type": "stream",
     "text": [
      "3053261957584\n"
     ]
    }
   ],
   "source": [
    "df.columns\n",
    "print(id(df.columns))\n"
   ]
  },
  {
   "cell_type": "code",
   "execution_count": 14,
   "metadata": {},
   "outputs": [
    {
     "data": {
      "text/plain": [
       "<bound method NDFrame.head of         id  acquisition_id acquiring_object_id acquired_object_id term_code  \\\n",
       "0        1               1                c:11               c:10       NaN   \n",
       "1        2               7                c:59               c:72      cash   \n",
       "2        3               8                c:24              c:132      cash   \n",
       "3        4               9                c:59              c:155      cash   \n",
       "4        5              10               c:212              c:215      cash   \n",
       "...    ...             ...                 ...                ...       ...   \n",
       "9557  9558           10525            c:267859           c:285995     stock   \n",
       "9558  9559           10526            c:285493           c:286006       NaN   \n",
       "9559  9560           10527            c:223792           c:220208       NaN   \n",
       "9560  9561           10528            c:227620           c:286176      cash   \n",
       "9561  9562           10529                c:53            c:92846       NaN   \n",
       "\n",
       "      price_amount price_currency_code acquired_at  \\\n",
       "0     2.000000e+07                 USD  2007-05-30   \n",
       "1     6.000000e+07                 USD  2007-07-01   \n",
       "2     2.800000e+08                 USD  2007-05-01   \n",
       "3     1.000000e+08                 USD  2007-06-01   \n",
       "4     2.500000e+07                 USD  2007-07-01   \n",
       "...            ...                 ...         ...   \n",
       "9557  2.220000e+08                 USD  2013-12-11   \n",
       "9558  0.000000e+00                 USD  2013-12-09   \n",
       "9559  2.600000e+10                 USD  2007-07-03   \n",
       "9560  5.240000e+07                 USD  2013-12-12   \n",
       "9561  4.260000e+07                 USD  2013-12-12   \n",
       "\n",
       "                                             source_url  \\\n",
       "0     http://venturebeat.com/2007/05/30/fox-interact...   \n",
       "1     http://www.techcrunch.com/2007/07/02/deal-is-c...   \n",
       "2     http://www.techcrunch.com/2007/05/30/cbs-acqui...   \n",
       "3     http://techcrunch.com/2007/05/23/100-million-p...   \n",
       "4     http://blog.seattlepi.nwsource.com/venture/arc...   \n",
       "...                                                 ...   \n",
       "9557  http://boardvote.com/symbol/EBS/communique/502286   \n",
       "9558  http://www.rttnews.com/2236430/dxp-enterprises...   \n",
       "9559  http://www.blackstone.com/news-views/press-rel...   \n",
       "9560  http://jewishbusinessnews.com/2013/12/12/third...   \n",
       "9561  http://techcrunch.com/2013/12/12/lifelock-acqu...   \n",
       "\n",
       "                                     source_description           created_at  \\\n",
       "0     Fox Interactive confirms purchase of Photobuck...  2007-05-31 22:19:54   \n",
       "1       Deal is Confirmed: Google Acquired GrandCentral  2007-07-03 08:14:50   \n",
       "2      CBS Acquires Europeâs Last.fm for $280 million  2007-07-12 04:19:24   \n",
       "3     $100 Million Payday For Feedburner  This Deal...  2007-07-13 09:52:59   \n",
       "4                                          seatlepi.com  2007-07-20 05:29:07   \n",
       "...                                                 ...                  ...   \n",
       "9557  Emergent BioSolutions to Acquire Cangene Corpo...  2013-12-12 05:47:35   \n",
       "9558  DXP Enterprises To Acquire B27 LLC For Approx....  2013-12-12 06:10:48   \n",
       "9559  Hilton Hotels Corporation to be Acquired by Bl...  2013-12-12 10:28:16   \n",
       "9560  Third Acquisition in a Month : Frutarom Buys U...  2013-12-12 12:36:09   \n",
       "9561  LifeLock Acquires Mobile Wallet Platform Lemon...  2013-12-12 12:38:35   \n",
       "\n",
       "               updated_at  \n",
       "0     2008-05-21 19:23:44  \n",
       "1     2011-05-06 21:51:05  \n",
       "2     2008-05-19 04:48:50  \n",
       "3     2012-06-05 03:22:17  \n",
       "4     2008-02-25 00:23:47  \n",
       "...                   ...  \n",
       "9557  2013-12-12 05:47:35  \n",
       "9558  2013-12-12 06:10:48  \n",
       "9559  2013-12-12 10:48:44  \n",
       "9560  2013-12-12 12:36:09  \n",
       "9561  2013-12-12 12:38:35  \n",
       "\n",
       "[9562 rows x 12 columns]>"
      ]
     },
     "execution_count": 14,
     "metadata": {},
     "output_type": "execute_result"
    }
   ],
   "source": [
    "df.head"
   ]
  },
  {
   "cell_type": "code",
   "execution_count": 20,
   "metadata": {},
   "outputs": [
    {
     "name": "stdout",
     "output_type": "stream",
     "text": [
      "-0.07498724871103725\n"
     ]
    },
    {
     "name": "stderr",
     "output_type": "stream",
     "text": [
      "C:\\Users\\kamro\\AppData\\Local\\Temp\\ipykernel_31360\\2340869531.py:5: SettingWithCopyWarning: \n",
      "A value is trying to be set on a copy of a slice from a DataFrame.\n",
      "Try using .loc[row_indexer,col_indexer] = value instead\n",
      "\n",
      "See the caveats in the documentation: https://pandas.pydata.org/pandas-docs/stable/user_guide/indexing.html#returning-a-view-versus-a-copy\n",
      "  df['acquired_at'] = pd.to_datetime(df['acquired_at'])\n",
      "C:\\Users\\kamro\\AppData\\Local\\Temp\\ipykernel_31360\\2340869531.py:8: SettingWithCopyWarning: \n",
      "A value is trying to be set on a copy of a slice from a DataFrame.\n",
      "Try using .loc[row_indexer,col_indexer] = value instead\n",
      "\n",
      "See the caveats in the documentation: https://pandas.pydata.org/pandas-docs/stable/user_guide/indexing.html#returning-a-view-versus-a-copy\n",
      "  df['acquired_at_timestamp'] = df['acquired_at'].apply(lambda x: x.timestamp())\n"
     ]
    }
   ],
   "source": [
    "# Drop rows with missing 'acquired_at'\n",
    "df = df.dropna(subset=['acquired_at'])\n",
    "\n",
    "# Convert 'acquired_at' to datetime\n",
    "df['acquired_at'] = pd.to_datetime(df['acquired_at'])\n",
    "\n",
    "# Convert 'acquired_at' to timestamp (numeric form)\n",
    "df['acquired_at_timestamp'] = df['acquired_at'].apply(lambda x: x.timestamp())\n",
    "\n",
    "# Calculate the correlation between 'price_amount' and 'acquired_at_timestamp'\n",
    "correlation = df['price_amount'].corr(df['acquired_at_timestamp'])\n",
    "\n",
    "print(correlation)"
   ]
  },
  {
   "cell_type": "code",
   "execution_count": 15,
   "metadata": {},
   "outputs": [
    {
     "data": {
      "text/plain": [
       "Index(['id', 'acquisition_id', 'acquiring_object_id', 'acquired_object_id',\n",
       "       'term_code', 'price_amount', 'price_currency_code', 'acquired_at',\n",
       "       'source_url', 'source_description', 'created_at', 'updated_at'],\n",
       "      dtype='object')"
      ]
     },
     "execution_count": 15,
     "metadata": {},
     "output_type": "execute_result"
    }
   ],
   "source": []
  }
 ],
 "metadata": {
  "kernelspec": {
   "display_name": "Python 3",
   "language": "python",
   "name": "python3"
  },
  "language_info": {
   "codemirror_mode": {
    "name": "ipython",
    "version": 3
   },
   "file_extension": ".py",
   "mimetype": "text/x-python",
   "name": "python",
   "nbconvert_exporter": "python",
   "pygments_lexer": "ipython3",
   "version": "3.11.4"
  }
 },
 "nbformat": 4,
 "nbformat_minor": 2
}
